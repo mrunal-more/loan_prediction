{
 "cells": [
  {
   "cell_type": "code",
   "execution_count": 1,
   "id": "123a005b",
   "metadata": {},
   "outputs": [],
   "source": [
    "import numpy as np\n",
    "import pandas as pd\n",
    "\n",
    "import seaborn as sns\n",
    "import matplotlib.pyplot as plt\n",
    "\n",
    "from sklearn.model_selection import train_test_split\n",
    "\n",
    "from sklearn.linear_model import LogisticRegression\n",
    "from sklearn.metrics import accuracy_score, confusion_matrix, classification_report\n",
    "from sklearn.metrics import precision_score, recall_score, f1_score\n",
    "\n",
    "\n",
    "import pickle\n",
    "import json"
   ]
  },
  {
   "cell_type": "code",
   "execution_count": 2,
   "id": "8e83f35f",
   "metadata": {},
   "outputs": [
    {
     "data": {
      "text/html": [
       "<div>\n",
       "<style scoped>\n",
       "    .dataframe tbody tr th:only-of-type {\n",
       "        vertical-align: middle;\n",
       "    }\n",
       "\n",
       "    .dataframe tbody tr th {\n",
       "        vertical-align: top;\n",
       "    }\n",
       "\n",
       "    .dataframe thead th {\n",
       "        text-align: right;\n",
       "    }\n",
       "</style>\n",
       "<table border=\"1\" class=\"dataframe\">\n",
       "  <thead>\n",
       "    <tr style=\"text-align: right;\">\n",
       "      <th></th>\n",
       "      <th>Loan_ID</th>\n",
       "      <th>Gender</th>\n",
       "      <th>Married</th>\n",
       "      <th>Dependents</th>\n",
       "      <th>Education</th>\n",
       "      <th>Self_Employed</th>\n",
       "      <th>ApplicantIncome</th>\n",
       "      <th>CoapplicantIncome</th>\n",
       "      <th>LoanAmount</th>\n",
       "      <th>Loan_Amount_Term</th>\n",
       "      <th>Credit_History</th>\n",
       "      <th>Property_Area</th>\n",
       "      <th>Loan_Status</th>\n",
       "    </tr>\n",
       "  </thead>\n",
       "  <tbody>\n",
       "    <tr>\n",
       "      <th>162</th>\n",
       "      <td>LP001565</td>\n",
       "      <td>Male</td>\n",
       "      <td>Yes</td>\n",
       "      <td>1</td>\n",
       "      <td>Graduate</td>\n",
       "      <td>No</td>\n",
       "      <td>3089</td>\n",
       "      <td>1280.0</td>\n",
       "      <td>121.0</td>\n",
       "      <td>360.0</td>\n",
       "      <td>0.0</td>\n",
       "      <td>Semiurban</td>\n",
       "      <td>N</td>\n",
       "    </tr>\n",
       "    <tr>\n",
       "      <th>103</th>\n",
       "      <td>LP001356</td>\n",
       "      <td>Male</td>\n",
       "      <td>Yes</td>\n",
       "      <td>0</td>\n",
       "      <td>Graduate</td>\n",
       "      <td>No</td>\n",
       "      <td>4652</td>\n",
       "      <td>3583.0</td>\n",
       "      <td>NaN</td>\n",
       "      <td>360.0</td>\n",
       "      <td>1.0</td>\n",
       "      <td>Semiurban</td>\n",
       "      <td>Y</td>\n",
       "    </tr>\n",
       "    <tr>\n",
       "      <th>485</th>\n",
       "      <td>LP002544</td>\n",
       "      <td>Male</td>\n",
       "      <td>Yes</td>\n",
       "      <td>1</td>\n",
       "      <td>Not Graduate</td>\n",
       "      <td>No</td>\n",
       "      <td>1958</td>\n",
       "      <td>2436.0</td>\n",
       "      <td>131.0</td>\n",
       "      <td>360.0</td>\n",
       "      <td>1.0</td>\n",
       "      <td>Rural</td>\n",
       "      <td>Y</td>\n",
       "    </tr>\n",
       "    <tr>\n",
       "      <th>111</th>\n",
       "      <td>LP001387</td>\n",
       "      <td>Female</td>\n",
       "      <td>Yes</td>\n",
       "      <td>0</td>\n",
       "      <td>Graduate</td>\n",
       "      <td>NaN</td>\n",
       "      <td>2929</td>\n",
       "      <td>2333.0</td>\n",
       "      <td>139.0</td>\n",
       "      <td>360.0</td>\n",
       "      <td>1.0</td>\n",
       "      <td>Semiurban</td>\n",
       "      <td>Y</td>\n",
       "    </tr>\n",
       "    <tr>\n",
       "      <th>81</th>\n",
       "      <td>LP001266</td>\n",
       "      <td>Male</td>\n",
       "      <td>Yes</td>\n",
       "      <td>1</td>\n",
       "      <td>Graduate</td>\n",
       "      <td>Yes</td>\n",
       "      <td>2395</td>\n",
       "      <td>0.0</td>\n",
       "      <td>NaN</td>\n",
       "      <td>360.0</td>\n",
       "      <td>1.0</td>\n",
       "      <td>Semiurban</td>\n",
       "      <td>Y</td>\n",
       "    </tr>\n",
       "  </tbody>\n",
       "</table>\n",
       "</div>"
      ],
      "text/plain": [
       "      Loan_ID  Gender Married Dependents     Education Self_Employed  \\\n",
       "162  LP001565    Male     Yes          1      Graduate            No   \n",
       "103  LP001356    Male     Yes          0      Graduate            No   \n",
       "485  LP002544    Male     Yes          1  Not Graduate            No   \n",
       "111  LP001387  Female     Yes          0      Graduate           NaN   \n",
       "81   LP001266    Male     Yes          1      Graduate           Yes   \n",
       "\n",
       "     ApplicantIncome  CoapplicantIncome  LoanAmount  Loan_Amount_Term  \\\n",
       "162             3089             1280.0       121.0             360.0   \n",
       "103             4652             3583.0         NaN             360.0   \n",
       "485             1958             2436.0       131.0             360.0   \n",
       "111             2929             2333.0       139.0             360.0   \n",
       "81              2395                0.0         NaN             360.0   \n",
       "\n",
       "     Credit_History Property_Area Loan_Status  \n",
       "162             0.0     Semiurban           N  \n",
       "103             1.0     Semiurban           Y  \n",
       "485             1.0         Rural           Y  \n",
       "111             1.0     Semiurban           Y  \n",
       "81              1.0     Semiurban           Y  "
      ]
     },
     "execution_count": 2,
     "metadata": {},
     "output_type": "execute_result"
    }
   ],
   "source": [
    "df = pd.read_csv(\"Loan.csv\")\n",
    "df.sample(5)"
   ]
  },
  {
   "cell_type": "code",
   "execution_count": 3,
   "id": "fd4f8a43",
   "metadata": {},
   "outputs": [
    {
     "data": {
      "text/plain": [
       "(614, 13)"
      ]
     },
     "execution_count": 3,
     "metadata": {},
     "output_type": "execute_result"
    }
   ],
   "source": [
    "df.shape"
   ]
  },
  {
   "cell_type": "code",
   "execution_count": 4,
   "id": "11ddd1d3",
   "metadata": {},
   "outputs": [
    {
     "name": "stdout",
     "output_type": "stream",
     "text": [
      "<class 'pandas.core.frame.DataFrame'>\n",
      "RangeIndex: 614 entries, 0 to 613\n",
      "Data columns (total 13 columns):\n",
      " #   Column             Non-Null Count  Dtype  \n",
      "---  ------             --------------  -----  \n",
      " 0   Loan_ID            614 non-null    object \n",
      " 1   Gender             601 non-null    object \n",
      " 2   Married            611 non-null    object \n",
      " 3   Dependents         599 non-null    object \n",
      " 4   Education          614 non-null    object \n",
      " 5   Self_Employed      582 non-null    object \n",
      " 6   ApplicantIncome    614 non-null    int64  \n",
      " 7   CoapplicantIncome  614 non-null    float64\n",
      " 8   LoanAmount         592 non-null    float64\n",
      " 9   Loan_Amount_Term   600 non-null    float64\n",
      " 10  Credit_History     564 non-null    float64\n",
      " 11  Property_Area      614 non-null    object \n",
      " 12  Loan_Status        614 non-null    object \n",
      "dtypes: float64(4), int64(1), object(8)\n",
      "memory usage: 62.5+ KB\n"
     ]
    }
   ],
   "source": [
    "df.info()"
   ]
  },
  {
   "cell_type": "code",
   "execution_count": 5,
   "id": "f57ed37c",
   "metadata": {
    "scrolled": true
   },
   "outputs": [
    {
     "data": {
      "text/plain": [
       "Loan_ID               0\n",
       "Gender               13\n",
       "Married               3\n",
       "Dependents           15\n",
       "Education             0\n",
       "Self_Employed        32\n",
       "ApplicantIncome       0\n",
       "CoapplicantIncome     0\n",
       "LoanAmount           22\n",
       "Loan_Amount_Term     14\n",
       "Credit_History       50\n",
       "Property_Area         0\n",
       "Loan_Status           0\n",
       "dtype: int64"
      ]
     },
     "execution_count": 5,
     "metadata": {},
     "output_type": "execute_result"
    }
   ],
   "source": [
    "df.isnull().sum()"
   ]
  },
  {
   "cell_type": "code",
   "execution_count": 6,
   "id": "43693d38",
   "metadata": {},
   "outputs": [
    {
     "data": {
      "text/html": [
       "<div>\n",
       "<style scoped>\n",
       "    .dataframe tbody tr th:only-of-type {\n",
       "        vertical-align: middle;\n",
       "    }\n",
       "\n",
       "    .dataframe tbody tr th {\n",
       "        vertical-align: top;\n",
       "    }\n",
       "\n",
       "    .dataframe thead th {\n",
       "        text-align: right;\n",
       "    }\n",
       "</style>\n",
       "<table border=\"1\" class=\"dataframe\">\n",
       "  <thead>\n",
       "    <tr style=\"text-align: right;\">\n",
       "      <th></th>\n",
       "      <th>ApplicantIncome</th>\n",
       "      <th>CoapplicantIncome</th>\n",
       "      <th>LoanAmount</th>\n",
       "      <th>Loan_Amount_Term</th>\n",
       "      <th>Credit_History</th>\n",
       "    </tr>\n",
       "  </thead>\n",
       "  <tbody>\n",
       "    <tr>\n",
       "      <th>count</th>\n",
       "      <td>614.000000</td>\n",
       "      <td>614.000000</td>\n",
       "      <td>592.000000</td>\n",
       "      <td>600.00000</td>\n",
       "      <td>564.000000</td>\n",
       "    </tr>\n",
       "    <tr>\n",
       "      <th>mean</th>\n",
       "      <td>5403.459283</td>\n",
       "      <td>1621.245798</td>\n",
       "      <td>146.412162</td>\n",
       "      <td>342.00000</td>\n",
       "      <td>0.842199</td>\n",
       "    </tr>\n",
       "    <tr>\n",
       "      <th>std</th>\n",
       "      <td>6109.041673</td>\n",
       "      <td>2926.248369</td>\n",
       "      <td>85.587325</td>\n",
       "      <td>65.12041</td>\n",
       "      <td>0.364878</td>\n",
       "    </tr>\n",
       "    <tr>\n",
       "      <th>min</th>\n",
       "      <td>150.000000</td>\n",
       "      <td>0.000000</td>\n",
       "      <td>9.000000</td>\n",
       "      <td>12.00000</td>\n",
       "      <td>0.000000</td>\n",
       "    </tr>\n",
       "    <tr>\n",
       "      <th>25%</th>\n",
       "      <td>2877.500000</td>\n",
       "      <td>0.000000</td>\n",
       "      <td>100.000000</td>\n",
       "      <td>360.00000</td>\n",
       "      <td>1.000000</td>\n",
       "    </tr>\n",
       "    <tr>\n",
       "      <th>50%</th>\n",
       "      <td>3812.500000</td>\n",
       "      <td>1188.500000</td>\n",
       "      <td>128.000000</td>\n",
       "      <td>360.00000</td>\n",
       "      <td>1.000000</td>\n",
       "    </tr>\n",
       "    <tr>\n",
       "      <th>75%</th>\n",
       "      <td>5795.000000</td>\n",
       "      <td>2297.250000</td>\n",
       "      <td>168.000000</td>\n",
       "      <td>360.00000</td>\n",
       "      <td>1.000000</td>\n",
       "    </tr>\n",
       "    <tr>\n",
       "      <th>max</th>\n",
       "      <td>81000.000000</td>\n",
       "      <td>41667.000000</td>\n",
       "      <td>700.000000</td>\n",
       "      <td>480.00000</td>\n",
       "      <td>1.000000</td>\n",
       "    </tr>\n",
       "  </tbody>\n",
       "</table>\n",
       "</div>"
      ],
      "text/plain": [
       "       ApplicantIncome  CoapplicantIncome  LoanAmount  Loan_Amount_Term  \\\n",
       "count       614.000000         614.000000  592.000000         600.00000   \n",
       "mean       5403.459283        1621.245798  146.412162         342.00000   \n",
       "std        6109.041673        2926.248369   85.587325          65.12041   \n",
       "min         150.000000           0.000000    9.000000          12.00000   \n",
       "25%        2877.500000           0.000000  100.000000         360.00000   \n",
       "50%        3812.500000        1188.500000  128.000000         360.00000   \n",
       "75%        5795.000000        2297.250000  168.000000         360.00000   \n",
       "max       81000.000000       41667.000000  700.000000         480.00000   \n",
       "\n",
       "       Credit_History  \n",
       "count      564.000000  \n",
       "mean         0.842199  \n",
       "std          0.364878  \n",
       "min          0.000000  \n",
       "25%          1.000000  \n",
       "50%          1.000000  \n",
       "75%          1.000000  \n",
       "max          1.000000  "
      ]
     },
     "execution_count": 6,
     "metadata": {},
     "output_type": "execute_result"
    }
   ],
   "source": [
    "df.describe()"
   ]
  },
  {
   "cell_type": "code",
   "execution_count": 7,
   "id": "34bdec56",
   "metadata": {},
   "outputs": [],
   "source": [
    "# sns.countplot(df[\"Gender\"]) --> Male\n",
    "# sns.countplot(df[\"Married\"]) --> Yes\n",
    "# sns.countplot(df[\"Dependents\"]) --> 0\n",
    "# sns.countplot(df[\"Self_Employed\"]) --> No"
   ]
  },
  {
   "cell_type": "code",
   "execution_count": 8,
   "id": "f343fe29",
   "metadata": {},
   "outputs": [],
   "source": [
    "df[\"Gender\"] = df[\"Gender\"].fillna(\"Male\")\n",
    "df[\"Married\"] = df[\"Married\"].fillna(\"Yes\")\n",
    "df[\"Dependents\"] = df[\"Dependents\"].fillna(\"0\")\n",
    "df[\"Self_Employed\"] = df[\"Self_Employed\"].fillna(\"No\")\n",
    "df[\"ApplicantIncome\"] = df[\"ApplicantIncome\"].astype(int)\n",
    "df[\"CoapplicantIncome\"] = df[\"CoapplicantIncome\"].astype(int)\n",
    "df[\"LoanAmount\"] = df[\"LoanAmount\"].fillna(df[\"LoanAmount\"].mean()).astype(int)\n",
    "df[\"Loan_Amount_Term\"] = df[\"Loan_Amount_Term\"].fillna(df[\"Loan_Amount_Term\"].mean()).astype(int)\n",
    "df[\"Credit_History\"] = df[\"Credit_History\"].fillna(df[\"Credit_History\"].mean()).astype(int)"
   ]
  },
  {
   "cell_type": "code",
   "execution_count": 9,
   "id": "82c3add7",
   "metadata": {},
   "outputs": [
    {
     "data": {
      "text/plain": [
       "Loan_ID              0\n",
       "Gender               0\n",
       "Married              0\n",
       "Dependents           0\n",
       "Education            0\n",
       "Self_Employed        0\n",
       "ApplicantIncome      0\n",
       "CoapplicantIncome    0\n",
       "LoanAmount           0\n",
       "Loan_Amount_Term     0\n",
       "Credit_History       0\n",
       "Property_Area        0\n",
       "Loan_Status          0\n",
       "dtype: int64"
      ]
     },
     "execution_count": 9,
     "metadata": {},
     "output_type": "execute_result"
    }
   ],
   "source": [
    "df.isnull().sum()"
   ]
  },
  {
   "cell_type": "code",
   "execution_count": 10,
   "id": "0c9d6d4c",
   "metadata": {},
   "outputs": [
    {
     "data": {
      "text/plain": [
       "Loan_ID              object\n",
       "Gender               object\n",
       "Married              object\n",
       "Dependents           object\n",
       "Education            object\n",
       "Self_Employed        object\n",
       "ApplicantIncome       int32\n",
       "CoapplicantIncome     int32\n",
       "LoanAmount            int32\n",
       "Loan_Amount_Term      int32\n",
       "Credit_History        int32\n",
       "Property_Area        object\n",
       "Loan_Status          object\n",
       "dtype: object"
      ]
     },
     "execution_count": 10,
     "metadata": {},
     "output_type": "execute_result"
    }
   ],
   "source": [
    "df.dtypes"
   ]
  },
  {
   "cell_type": "code",
   "execution_count": 11,
   "id": "10176e13",
   "metadata": {},
   "outputs": [],
   "source": [
    "# df['Gender'].value_counts().to_dict()                 #  {'Male': 502, 'Female': 112}\n",
    "# df['Married'].value_counts().to_dict()                #  {'Yes': 401, 'No': 213}\n",
    "# df['Dependents'].value_counts().to_dict()             #  {'0': 360, '1': 102, '2': 101, '3+': 51}\n",
    "# df['Education'].value_counts().to_dict()              #  {'Graduate': 480, 'Not Graduate': 134}\n",
    "# df['Self_Employed'].value_counts().to_dict()          #  {'No': 532, 'Yes': 82}\n",
    "# df['Property_Area'].value_counts().to_dict()          #  {'Semiurban': 233, 'Urban': 202, 'Rural': 179}\n",
    "# df['Loan_Status'].value_counts().to_dict()            #  {'Y': 422, 'N': 192}"
   ]
  },
  {
   "cell_type": "code",
   "execution_count": 12,
   "id": "dc3b7620",
   "metadata": {},
   "outputs": [],
   "source": [
    "New_df = df.copy()"
   ]
  },
  {
   "cell_type": "code",
   "execution_count": 13,
   "id": "de45e345",
   "metadata": {},
   "outputs": [
    {
     "data": {
      "text/html": [
       "<div>\n",
       "<style scoped>\n",
       "    .dataframe tbody tr th:only-of-type {\n",
       "        vertical-align: middle;\n",
       "    }\n",
       "\n",
       "    .dataframe tbody tr th {\n",
       "        vertical-align: top;\n",
       "    }\n",
       "\n",
       "    .dataframe thead th {\n",
       "        text-align: right;\n",
       "    }\n",
       "</style>\n",
       "<table border=\"1\" class=\"dataframe\">\n",
       "  <thead>\n",
       "    <tr style=\"text-align: right;\">\n",
       "      <th></th>\n",
       "      <th>Loan_ID</th>\n",
       "      <th>Gender</th>\n",
       "      <th>Married</th>\n",
       "      <th>Dependents</th>\n",
       "      <th>Education</th>\n",
       "      <th>Self_Employed</th>\n",
       "      <th>ApplicantIncome</th>\n",
       "      <th>CoapplicantIncome</th>\n",
       "      <th>LoanAmount</th>\n",
       "      <th>Loan_Amount_Term</th>\n",
       "      <th>Credit_History</th>\n",
       "      <th>Property_Area</th>\n",
       "      <th>Loan_Status</th>\n",
       "    </tr>\n",
       "  </thead>\n",
       "  <tbody>\n",
       "    <tr>\n",
       "      <th>556</th>\n",
       "      <td>LP002794</td>\n",
       "      <td>0</td>\n",
       "      <td>0</td>\n",
       "      <td>0</td>\n",
       "      <td>1</td>\n",
       "      <td>0</td>\n",
       "      <td>2667</td>\n",
       "      <td>1625</td>\n",
       "      <td>84</td>\n",
       "      <td>360</td>\n",
       "      <td>0</td>\n",
       "      <td>1</td>\n",
       "      <td>1</td>\n",
       "    </tr>\n",
       "    <tr>\n",
       "      <th>271</th>\n",
       "      <td>LP001891</td>\n",
       "      <td>1</td>\n",
       "      <td>1</td>\n",
       "      <td>0</td>\n",
       "      <td>1</td>\n",
       "      <td>0</td>\n",
       "      <td>11146</td>\n",
       "      <td>0</td>\n",
       "      <td>136</td>\n",
       "      <td>360</td>\n",
       "      <td>1</td>\n",
       "      <td>1</td>\n",
       "      <td>1</td>\n",
       "    </tr>\n",
       "    <tr>\n",
       "      <th>325</th>\n",
       "      <td>LP002067</td>\n",
       "      <td>1</td>\n",
       "      <td>1</td>\n",
       "      <td>1</td>\n",
       "      <td>1</td>\n",
       "      <td>1</td>\n",
       "      <td>8666</td>\n",
       "      <td>4983</td>\n",
       "      <td>376</td>\n",
       "      <td>360</td>\n",
       "      <td>0</td>\n",
       "      <td>2</td>\n",
       "      <td>0</td>\n",
       "    </tr>\n",
       "    <tr>\n",
       "      <th>199</th>\n",
       "      <td>LP001673</td>\n",
       "      <td>1</td>\n",
       "      <td>0</td>\n",
       "      <td>0</td>\n",
       "      <td>1</td>\n",
       "      <td>1</td>\n",
       "      <td>11000</td>\n",
       "      <td>0</td>\n",
       "      <td>83</td>\n",
       "      <td>360</td>\n",
       "      <td>1</td>\n",
       "      <td>1</td>\n",
       "      <td>0</td>\n",
       "    </tr>\n",
       "    <tr>\n",
       "      <th>276</th>\n",
       "      <td>LP001903</td>\n",
       "      <td>1</td>\n",
       "      <td>1</td>\n",
       "      <td>0</td>\n",
       "      <td>1</td>\n",
       "      <td>0</td>\n",
       "      <td>3993</td>\n",
       "      <td>3274</td>\n",
       "      <td>207</td>\n",
       "      <td>360</td>\n",
       "      <td>1</td>\n",
       "      <td>0</td>\n",
       "      <td>1</td>\n",
       "    </tr>\n",
       "  </tbody>\n",
       "</table>\n",
       "</div>"
      ],
      "text/plain": [
       "      Loan_ID  Gender  Married  Dependents  Education  Self_Employed  \\\n",
       "556  LP002794       0        0           0          1              0   \n",
       "271  LP001891       1        1           0          1              0   \n",
       "325  LP002067       1        1           1          1              1   \n",
       "199  LP001673       1        0           0          1              1   \n",
       "276  LP001903       1        1           0          1              0   \n",
       "\n",
       "     ApplicantIncome  CoapplicantIncome  LoanAmount  Loan_Amount_Term  \\\n",
       "556             2667               1625          84               360   \n",
       "271            11146                  0         136               360   \n",
       "325             8666               4983         376               360   \n",
       "199            11000                  0          83               360   \n",
       "276             3993               3274         207               360   \n",
       "\n",
       "     Credit_History  Property_Area  Loan_Status  \n",
       "556               0              1            1  \n",
       "271               1              1            1  \n",
       "325               0              2            0  \n",
       "199               1              1            0  \n",
       "276               1              0            1  "
      ]
     },
     "execution_count": 13,
     "metadata": {},
     "output_type": "execute_result"
    }
   ],
   "source": [
    "New_df['Gender'].replace({'Male': 1, 'Female': 0}, inplace = True)\n",
    "New_df['Married'].replace({'Yes': 1, 'No': 0}, inplace = True)\n",
    "New_df['Dependents'].replace({'0': 0, '1': 1, '2': 2, '3+': 3}, inplace = True)\n",
    "New_df['Education'].replace({'Graduate': 1, 'Not Graduate': 0}, inplace = True)\n",
    "New_df['Self_Employed'].replace({'No': 0, 'Yes': 1}, inplace = True)\n",
    "New_df['Property_Area'].replace({'Semiurban': 0, 'Urban': 1, 'Rural': 2}, inplace = True)\n",
    "New_df['Loan_Status'].replace({'Y': 1, 'N': 0}, inplace = True)\n",
    "New_df.sample(5)"
   ]
  },
  {
   "cell_type": "code",
   "execution_count": 14,
   "id": "769d7fe5",
   "metadata": {},
   "outputs": [],
   "source": [
    "X = New_df.drop([\"Loan_ID\",\"Loan_Status\"],axis=1)\n",
    "Y = New_df[\"Loan_Status\"]"
   ]
  },
  {
   "cell_type": "code",
   "execution_count": 15,
   "id": "34fe85c2",
   "metadata": {},
   "outputs": [],
   "source": [
    "from sklearn.model_selection import train_test_split\n",
    "\n",
    "x_train,x_test,y_train,y_test = train_test_split(X,Y,test_size=0.2,random_state=42)"
   ]
  },
  {
   "cell_type": "code",
   "execution_count": 16,
   "id": "0deb7800",
   "metadata": {},
   "outputs": [
    {
     "data": {
      "text/plain": [
       "((491, 11), (123, 11), (491,), (123,))"
      ]
     },
     "execution_count": 16,
     "metadata": {},
     "output_type": "execute_result"
    }
   ],
   "source": [
    "x_train.shape,x_test.shape,y_train.shape,y_test.shape"
   ]
  },
  {
   "cell_type": "code",
   "execution_count": 17,
   "id": "f2eb2152",
   "metadata": {},
   "outputs": [
    {
     "name": "stderr",
     "output_type": "stream",
     "text": [
      "C:\\Users\\Girish\\anaconda3\\lib\\site-packages\\sklearn\\linear_model\\_logistic.py:814: ConvergenceWarning: lbfgs failed to converge (status=1):\n",
      "STOP: TOTAL NO. of ITERATIONS REACHED LIMIT.\n",
      "\n",
      "Increase the number of iterations (max_iter) or scale the data as shown in:\n",
      "    https://scikit-learn.org/stable/modules/preprocessing.html\n",
      "Please also refer to the documentation for alternative solver options:\n",
      "    https://scikit-learn.org/stable/modules/linear_model.html#logistic-regression\n",
      "  n_iter_i = _check_optimize_result(\n"
     ]
    },
    {
     "data": {
      "text/plain": [
       "LogisticRegression()"
      ]
     },
     "execution_count": 17,
     "metadata": {},
     "output_type": "execute_result"
    }
   ],
   "source": [
    "Logistic_Model = LogisticRegression()\n",
    "Logistic_Model.fit(x_train,y_train)"
   ]
  },
  {
   "cell_type": "code",
   "execution_count": 18,
   "id": "e0c4ea0e",
   "metadata": {},
   "outputs": [
    {
     "name": "stdout",
     "output_type": "stream",
     "text": [
      "0.7678207739307535\n",
      "0.7398373983739838\n"
     ]
    }
   ],
   "source": [
    "train_score = Logistic_Model.score(x_train,y_train)\n",
    "print(train_score)\n",
    "\n",
    "test_score = Logistic_Model.score(x_test,y_test)\n",
    "print(test_score)"
   ]
  },
  {
   "cell_type": "code",
   "execution_count": 19,
   "id": "4c4ba5bf",
   "metadata": {},
   "outputs": [],
   "source": [
    "y_pred = Logistic_Model.predict(x_test)"
   ]
  },
  {
   "cell_type": "code",
   "execution_count": 20,
   "id": "2c86fa34",
   "metadata": {},
   "outputs": [
    {
     "data": {
      "text/plain": [
       "0.7398373983739838"
      ]
     },
     "execution_count": 20,
     "metadata": {},
     "output_type": "execute_result"
    }
   ],
   "source": [
    "accuracy_score(y_test,y_pred)"
   ]
  },
  {
   "cell_type": "code",
   "execution_count": 21,
   "id": "60bc08fd",
   "metadata": {},
   "outputs": [],
   "source": [
    "# Evalution on Training Data Set \n",
    "\n",
    "def model_eval(x_data,y_data,Logistic_Model):\n",
    "    y_pred = Logistic_Model.predict(x_data)\n",
    "\n",
    "    con_matrix = confusion_matrix(y_data,y_pred)\n",
    "    print(f\"Confusion Matrix = \\n{con_matrix}\")\n",
    "    print(\"*\"*50)\n",
    "\n",
    "    clf_report = classification_report(y_data,y_pred)\n",
    "    print(f\"Classification Report =\\n{clf_report}\")\n",
    "    print(\"*\"*50)\n",
    "\n",
    "    acc_score = accuracy_score(y_data,y_pred)\n",
    "    print(f\"Accuracy Score = {acc_score}\")\n",
    "    print(\"*\"*50)\n",
    "\n",
    "    precision = precision_score(y_data,y_pred)\n",
    "    print(f\"Precision = {precision}\")\n",
    "\n",
    "    recall = recall_score(y_data,y_pred)\n",
    "    print(f\"Recall = {recall}\")\n",
    "\n",
    "    f1 = f1_score(y_data,y_pred)\n",
    "    print(f\"f1- Score = {f1}\")\n",
    "    print(\"*\"*50)\n",
    "    \n",
    "    return \"SUCCESS\""
   ]
  },
  {
   "cell_type": "code",
   "execution_count": 22,
   "id": "690c66c8",
   "metadata": {},
   "outputs": [
    {
     "name": "stdout",
     "output_type": "stream",
     "text": [
      "Confusion Matrix = \n",
      "[[ 67  82]\n",
      " [ 32 310]]\n",
      "**************************************************\n",
      "Classification Report =\n",
      "              precision    recall  f1-score   support\n",
      "\n",
      "           0       0.68      0.45      0.54       149\n",
      "           1       0.79      0.91      0.84       342\n",
      "\n",
      "    accuracy                           0.77       491\n",
      "   macro avg       0.73      0.68      0.69       491\n",
      "weighted avg       0.76      0.77      0.75       491\n",
      "\n",
      "**************************************************\n",
      "Accuracy Score = 0.7678207739307535\n",
      "**************************************************\n",
      "Precision = 0.7908163265306123\n",
      "Recall = 0.9064327485380117\n",
      "f1- Score = 0.8446866485013624\n",
      "**************************************************\n"
     ]
    },
    {
     "data": {
      "text/plain": [
       "'SUCCESS'"
      ]
     },
     "execution_count": 22,
     "metadata": {},
     "output_type": "execute_result"
    }
   ],
   "source": [
    " model_eval(x_train,y_train,Logistic_Model)"
   ]
  },
  {
   "cell_type": "code",
   "execution_count": 23,
   "id": "405f137d",
   "metadata": {},
   "outputs": [],
   "source": [
    "dict_file = {\"Column_Names\":X.columns.tolist(),\n",
    "             \"Gender\":{'Male': 1, 'Female': 0},\n",
    "             \"Married\":{'Yes': 1, 'No': 0},\n",
    "             \"Dependents\":{'0': 0, '1': 1, '2': 2, '3+': 3},\n",
    "             \"Education\":{'Graduate': 1, 'Not Graduate': 0},\n",
    "             \"Self_Employed\":{'No': 0, 'Yes': 1},\n",
    "             \"Property_Area\":{'Semiurban': 0, 'Urban': 1, 'Rural': 2},\n",
    "             \"Loan_Status\":{'Y': 1, 'N': 0}\n",
    "            }\n",
    "\n",
    "with open(\"dict_file.json\",\"w\") as file:\n",
    "    json.dump(dict_file,file)"
   ]
  },
  {
   "cell_type": "code",
   "execution_count": 24,
   "id": "a1220d0c",
   "metadata": {},
   "outputs": [
    {
     "name": "stderr",
     "output_type": "stream",
     "text": [
      "C:\\Users\\Girish\\anaconda3\\lib\\site-packages\\sklearn\\base.py:450: UserWarning: X does not have valid feature names, but LogisticRegression was fitted with feature names\n",
      "  warnings.warn(\n"
     ]
    },
    {
     "data": {
      "text/plain": [
       "'Congratulation You Are Eligible For Loan'"
      ]
     },
     "execution_count": 24,
     "metadata": {},
     "output_type": "execute_result"
    }
   ],
   "source": [
    "Gender            = \"Male\"\n",
    "Married           = \"Yes\"\n",
    "Dependents        = \"0\"\n",
    "Education         = \"Graduate\"\n",
    "Self_Employed     = \"No\"\n",
    "ApplicantIncome   = 11146\n",
    "CoapplicantIncome = 0\n",
    "LoanAmount        = 136\n",
    "Loan_Amount_Term  = 360\n",
    "Credit_History    = 1\n",
    "Property_Area     = \"Urban\"\n",
    "\n",
    "# Preprocessing \n",
    "\n",
    "if Gender == \"Male\":\n",
    "    Gender = 1\n",
    "else: \n",
    "    Gender = 0\n",
    "    \n",
    "if Married == \"Yes\":\n",
    "    Married = 1\n",
    "else: \n",
    "    Married = 0\n",
    "    \n",
    "if Dependents == \"0\":\n",
    "    Dependents = 0\n",
    "elif Dependents == \"1\": \n",
    "    Dependents = 1\n",
    "elif Dependents == \"2\": \n",
    "    Dependents = 2\n",
    "else: \n",
    "    Dependents = 3\n",
    "\n",
    "if Education == \"Graduate\":\n",
    "    Education = 1\n",
    "else: \n",
    "    Education = 0\n",
    "\n",
    "if Self_Employed == \"Yes\":\n",
    "    Self_Employed = 1\n",
    "else: \n",
    "    Self_Employed = 0\n",
    "\n",
    "if Property_Area == \"Semiurban\":\n",
    "    Property_Area = 0\n",
    "elif Property_Area == \"Urban\": \n",
    "    Property_Area = 1\n",
    "else: \n",
    "    Property_Area = 2\n",
    "\n",
    "\n",
    "\n",
    "user_data = np.zeros(len(X.columns))\n",
    "user_data[0]    = Gender\n",
    "user_data[1]    = Married\n",
    "user_data[2]    = Dependents\n",
    "user_data[3]    = Education\n",
    "user_data[4]    = Self_Employed\n",
    "user_data[5]    = ApplicantIncome\n",
    "user_data[6]    = CoapplicantIncome\n",
    "user_data[7]    = LoanAmount\n",
    "user_data[8]    = Loan_Amount_Term\n",
    "user_data[9]    = Credit_History\n",
    "user_data[10]   = Property_Area\n",
    "\n",
    "result = Logistic_Model.predict([user_data])[0]\n",
    "if result == 1:\n",
    "    result = \"Congratulation You Are Eligible For Loan\"\n",
    "else: \n",
    "    result = \" Sorry! You Are Not Eligible For Loan\"\n",
    "\n",
    "result"
   ]
  },
  {
   "cell_type": "code",
   "execution_count": 25,
   "id": "ededc790",
   "metadata": {},
   "outputs": [],
   "source": [
    "with open('Loan_Pred_Model.pkl','wb') as file: \n",
    "    pickle.dump(Logistic_Model,file)"
   ]
  }
 ],
 "metadata": {
  "kernelspec": {
   "display_name": "Python 3 (ipykernel)",
   "language": "python",
   "name": "python3"
  },
  "language_info": {
   "codemirror_mode": {
    "name": "ipython",
    "version": 3
   },
   "file_extension": ".py",
   "mimetype": "text/x-python",
   "name": "python",
   "nbconvert_exporter": "python",
   "pygments_lexer": "ipython3",
   "version": "3.9.13"
  }
 },
 "nbformat": 4,
 "nbformat_minor": 5
}
